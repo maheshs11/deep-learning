{
 "cells": [
  {
   "cell_type": "code",
   "execution_count": 1,
   "metadata": {
    "_cell_guid": "b1076dfc-b9ad-4769-8c92-a6c4dae69d19",
    "_uuid": "8f2839f25d086af736a60e9eeb907d3b93b6e0e5",
    "execution": {
     "iopub.execute_input": "2020-10-24T12:09:25.897167Z",
     "iopub.status.busy": "2020-10-24T12:09:25.896106Z",
     "iopub.status.idle": "2020-10-24T12:09:25.902430Z",
     "shell.execute_reply": "2020-10-24T12:09:25.903041Z"
    },
    "papermill": {
     "duration": 0.03475,
     "end_time": "2020-10-24T12:09:25.903247",
     "exception": false,
     "start_time": "2020-10-24T12:09:25.868497",
     "status": "completed"
    },
    "tags": []
   },
   "outputs": [
    {
     "name": "stdout",
     "output_type": "stream",
     "text": [
      "/kaggle/input/gafa-stock-prices/YahooFinance - GAFA stock prices.csv\n"
     ]
    }
   ],
   "source": [
    "# This Python 3 environment comes with many helpful analytics libraries installed\n",
    "# It is defined by the kaggle/python Docker image: https://github.com/kaggle/docker-python\n",
    "# For example, here's several helpful packages to load\n",
    "\n",
    "import numpy as np # linear algebra\n",
    "import pandas as pd # data processing, CSV file I/O (e.g. pd.read_csv)\n",
    "\n",
    "# Input data files are available in the read-only \"../input/\" directory\n",
    "# For example, running this (by clicking run or pressing Shift+Enter) will list all files under the input directory\n",
    "\n",
    "import os\n",
    "for dirname, _, filenames in os.walk('/kaggle/input'):\n",
    "    for filename in filenames:\n",
    "        print(os.path.join(dirname, filename))\n",
    "\n",
    "# You can write up to 5GB to the current directory (/kaggle/working/) that gets preserved as output when you create a version using \"Save & Run All\" \n",
    "# You can also write temporary files to /kaggle/temp/, but they won't be saved outside of the current session"
   ]
  },
  {
   "cell_type": "markdown",
   "metadata": {
    "papermill": {
     "duration": 0.019204,
     "end_time": "2020-10-24T12:09:25.943035",
     "exception": false,
     "start_time": "2020-10-24T12:09:25.923831",
     "status": "completed"
    },
    "tags": []
   },
   "source": [
    "Let's learn together and if you find this kernel useful, don't forget to **UPVOTE** for this notebook. Thank you.:D"
   ]
  },
  {
   "cell_type": "markdown",
   "metadata": {
    "papermill": {
     "duration": 0.023267,
     "end_time": "2020-10-24T12:09:25.986905",
     "exception": false,
     "start_time": "2020-10-24T12:09:25.963638",
     "status": "completed"
    },
    "tags": []
   },
   "source": [
    "# 1. The stock price overtime\n",
    "\n",
    "We will breakdown the stock-price data using pandas and let's see the change of price of stock overtime."
   ]
  },
  {
   "cell_type": "code",
   "execution_count": 2,
   "metadata": {
    "_cell_guid": "79c7e3d0-c299-4dcb-8224-4455121ee9b0",
    "_uuid": "d629ff2d2480ee46fbb7e2d37f6b5fab8052498a",
    "execution": {
     "iopub.execute_input": "2020-10-24T12:09:26.034058Z",
     "iopub.status.busy": "2020-10-24T12:09:26.033265Z",
     "iopub.status.idle": "2020-10-24T12:09:26.154688Z",
     "shell.execute_reply": "2020-10-24T12:09:26.154060Z"
    },
    "papermill": {
     "duration": 0.148102,
     "end_time": "2020-10-24T12:09:26.154832",
     "exception": false,
     "start_time": "2020-10-24T12:09:26.006730",
     "status": "completed"
    },
    "tags": []
   },
   "outputs": [
    {
     "data": {
      "text/html": [
       "<div>\n",
       "<style scoped>\n",
       "    .dataframe tbody tr th:only-of-type {\n",
       "        vertical-align: middle;\n",
       "    }\n",
       "\n",
       "    .dataframe tbody tr th {\n",
       "        vertical-align: top;\n",
       "    }\n",
       "\n",
       "    .dataframe thead th {\n",
       "        text-align: right;\n",
       "    }\n",
       "</style>\n",
       "<table border=\"1\" class=\"dataframe\">\n",
       "  <thead>\n",
       "    <tr style=\"text-align: right;\">\n",
       "      <th></th>\n",
       "      <th>security_symbol</th>\n",
       "      <th>date</th>\n",
       "      <th>open</th>\n",
       "      <th>high</th>\n",
       "      <th>low</th>\n",
       "      <th>close</th>\n",
       "      <th>adjusted_close</th>\n",
       "      <th>volume</th>\n",
       "    </tr>\n",
       "  </thead>\n",
       "  <tbody>\n",
       "    <tr>\n",
       "      <th>0</th>\n",
       "      <td>%5EGSPC</td>\n",
       "      <td>1980-12-12</td>\n",
       "      <td>127.36</td>\n",
       "      <td>129.98</td>\n",
       "      <td>127.15</td>\n",
       "      <td>129.23</td>\n",
       "      <td>129.23</td>\n",
       "      <td>39530000</td>\n",
       "    </tr>\n",
       "    <tr>\n",
       "      <th>1</th>\n",
       "      <td>%5EGSPC</td>\n",
       "      <td>1980-12-15</td>\n",
       "      <td>129.23</td>\n",
       "      <td>131.33</td>\n",
       "      <td>128.64</td>\n",
       "      <td>129.45</td>\n",
       "      <td>129.45</td>\n",
       "      <td>39700000</td>\n",
       "    </tr>\n",
       "    <tr>\n",
       "      <th>2</th>\n",
       "      <td>%5EGSPC</td>\n",
       "      <td>1980-12-16</td>\n",
       "      <td>129.45</td>\n",
       "      <td>131.22</td>\n",
       "      <td>128.33</td>\n",
       "      <td>130.60</td>\n",
       "      <td>130.60</td>\n",
       "      <td>41630000</td>\n",
       "    </tr>\n",
       "    <tr>\n",
       "      <th>3</th>\n",
       "      <td>%5EGSPC</td>\n",
       "      <td>1980-12-17</td>\n",
       "      <td>130.60</td>\n",
       "      <td>133.59</td>\n",
       "      <td>130.22</td>\n",
       "      <td>132.89</td>\n",
       "      <td>132.89</td>\n",
       "      <td>50800000</td>\n",
       "    </tr>\n",
       "    <tr>\n",
       "      <th>4</th>\n",
       "      <td>%5EGSPC</td>\n",
       "      <td>1980-12-18</td>\n",
       "      <td>132.89</td>\n",
       "      <td>135.90</td>\n",
       "      <td>131.89</td>\n",
       "      <td>133.00</td>\n",
       "      <td>133.00</td>\n",
       "      <td>69570000</td>\n",
       "    </tr>\n",
       "  </tbody>\n",
       "</table>\n",
       "</div>"
      ],
      "text/plain": [
       "  security_symbol        date    open    high     low   close  adjusted_close  \\\n",
       "0         %5EGSPC  1980-12-12  127.36  129.98  127.15  129.23          129.23   \n",
       "1         %5EGSPC  1980-12-15  129.23  131.33  128.64  129.45          129.45   \n",
       "2         %5EGSPC  1980-12-16  129.45  131.22  128.33  130.60          130.60   \n",
       "3         %5EGSPC  1980-12-17  130.60  133.59  130.22  132.89          132.89   \n",
       "4         %5EGSPC  1980-12-18  132.89  135.90  131.89  133.00          133.00   \n",
       "\n",
       "     volume  \n",
       "0  39530000  \n",
       "1  39700000  \n",
       "2  41630000  \n",
       "3  50800000  \n",
       "4  69570000  "
      ]
     },
     "execution_count": 2,
     "metadata": {},
     "output_type": "execute_result"
    }
   ],
   "source": [
    "from datetime import datetime\n",
    "from datetime import timedelta\n",
    "import matplotlib.pyplot as plt\n",
    "data_df=pd.read_csv(\"/kaggle/input/gafa-stock-prices/YahooFinance - GAFA stock prices.csv\")\n",
    "data_df.head()"
   ]
  },
  {
   "cell_type": "code",
   "execution_count": 3,
   "metadata": {
    "execution": {
     "iopub.execute_input": "2020-10-24T12:09:26.208623Z",
     "iopub.status.busy": "2020-10-24T12:09:26.207640Z",
     "iopub.status.idle": "2020-10-24T12:09:26.213953Z",
     "shell.execute_reply": "2020-10-24T12:09:26.213299Z"
    },
    "papermill": {
     "duration": 0.035467,
     "end_time": "2020-10-24T12:09:26.214111",
     "exception": false,
     "start_time": "2020-10-24T12:09:26.178644",
     "status": "completed"
    },
    "tags": []
   },
   "outputs": [
    {
     "data": {
      "text/plain": [
       "array(['%5EGSPC', 'GOOG', 'AMZN', 'FB', 'AAPL'], dtype=object)"
      ]
     },
     "execution_count": 3,
     "metadata": {},
     "output_type": "execute_result"
    }
   ],
   "source": [
    "data_df['security_symbol'].unique()"
   ]
  },
  {
   "cell_type": "code",
   "execution_count": 4,
   "metadata": {
    "execution": {
     "iopub.execute_input": "2020-10-24T12:09:26.263684Z",
     "iopub.status.busy": "2020-10-24T12:09:26.262756Z",
     "iopub.status.idle": "2020-10-24T12:09:26.266938Z",
     "shell.execute_reply": "2020-10-24T12:09:26.267497Z"
    },
    "papermill": {
     "duration": 0.032656,
     "end_time": "2020-10-24T12:09:26.267661",
     "exception": false,
     "start_time": "2020-10-24T12:09:26.235005",
     "status": "completed"
    },
    "tags": []
   },
   "outputs": [],
   "source": [
    "data_df['security_symbol']=data_df['security_symbol'].replace(['%5EGSPC'],'YHOO')"
   ]
  },
  {
   "cell_type": "code",
   "execution_count": 5,
   "metadata": {
    "execution": {
     "iopub.execute_input": "2020-10-24T12:09:26.327666Z",
     "iopub.status.busy": "2020-10-24T12:09:26.326434Z",
     "iopub.status.idle": "2020-10-24T12:09:26.331465Z",
     "shell.execute_reply": "2020-10-24T12:09:26.330738Z"
    },
    "papermill": {
     "duration": 0.043157,
     "end_time": "2020-10-24T12:09:26.331587",
     "exception": false,
     "start_time": "2020-10-24T12:09:26.288430",
     "status": "completed"
    },
    "tags": []
   },
   "outputs": [
    {
     "data": {
      "text/html": [
       "<div>\n",
       "<style scoped>\n",
       "    .dataframe tbody tr th:only-of-type {\n",
       "        vertical-align: middle;\n",
       "    }\n",
       "\n",
       "    .dataframe tbody tr th {\n",
       "        vertical-align: top;\n",
       "    }\n",
       "\n",
       "    .dataframe thead th {\n",
       "        text-align: right;\n",
       "    }\n",
       "</style>\n",
       "<table border=\"1\" class=\"dataframe\">\n",
       "  <thead>\n",
       "    <tr style=\"text-align: right;\">\n",
       "      <th></th>\n",
       "      <th>security_symbol</th>\n",
       "      <th>date</th>\n",
       "      <th>open</th>\n",
       "      <th>high</th>\n",
       "      <th>low</th>\n",
       "      <th>close</th>\n",
       "      <th>adjusted_close</th>\n",
       "      <th>volume</th>\n",
       "    </tr>\n",
       "  </thead>\n",
       "  <tbody>\n",
       "    <tr>\n",
       "      <th>0</th>\n",
       "      <td>YHOO</td>\n",
       "      <td>1980-12-12</td>\n",
       "      <td>127.36</td>\n",
       "      <td>129.98</td>\n",
       "      <td>127.15</td>\n",
       "      <td>129.23</td>\n",
       "      <td>129.23</td>\n",
       "      <td>39530000</td>\n",
       "    </tr>\n",
       "    <tr>\n",
       "      <th>1</th>\n",
       "      <td>YHOO</td>\n",
       "      <td>1980-12-15</td>\n",
       "      <td>129.23</td>\n",
       "      <td>131.33</td>\n",
       "      <td>128.64</td>\n",
       "      <td>129.45</td>\n",
       "      <td>129.45</td>\n",
       "      <td>39700000</td>\n",
       "    </tr>\n",
       "    <tr>\n",
       "      <th>2</th>\n",
       "      <td>YHOO</td>\n",
       "      <td>1980-12-16</td>\n",
       "      <td>129.45</td>\n",
       "      <td>131.22</td>\n",
       "      <td>128.33</td>\n",
       "      <td>130.60</td>\n",
       "      <td>130.60</td>\n",
       "      <td>41630000</td>\n",
       "    </tr>\n",
       "    <tr>\n",
       "      <th>3</th>\n",
       "      <td>YHOO</td>\n",
       "      <td>1980-12-17</td>\n",
       "      <td>130.60</td>\n",
       "      <td>133.59</td>\n",
       "      <td>130.22</td>\n",
       "      <td>132.89</td>\n",
       "      <td>132.89</td>\n",
       "      <td>50800000</td>\n",
       "    </tr>\n",
       "    <tr>\n",
       "      <th>4</th>\n",
       "      <td>YHOO</td>\n",
       "      <td>1980-12-18</td>\n",
       "      <td>132.89</td>\n",
       "      <td>135.90</td>\n",
       "      <td>131.89</td>\n",
       "      <td>133.00</td>\n",
       "      <td>133.00</td>\n",
       "      <td>69570000</td>\n",
       "    </tr>\n",
       "  </tbody>\n",
       "</table>\n",
       "</div>"
      ],
      "text/plain": [
       "  security_symbol        date    open    high     low   close  adjusted_close  \\\n",
       "0            YHOO  1980-12-12  127.36  129.98  127.15  129.23          129.23   \n",
       "1            YHOO  1980-12-15  129.23  131.33  128.64  129.45          129.45   \n",
       "2            YHOO  1980-12-16  129.45  131.22  128.33  130.60          130.60   \n",
       "3            YHOO  1980-12-17  130.60  133.59  130.22  132.89          132.89   \n",
       "4            YHOO  1980-12-18  132.89  135.90  131.89  133.00          133.00   \n",
       "\n",
       "     volume  \n",
       "0  39530000  \n",
       "1  39700000  \n",
       "2  41630000  \n",
       "3  50800000  \n",
       "4  69570000  "
      ]
     },
     "execution_count": 5,
     "metadata": {},
     "output_type": "execute_result"
    }
   ],
   "source": [
    "data_df.head()"
   ]
  },
  {
   "cell_type": "code",
   "execution_count": 6,
   "metadata": {
    "execution": {
     "iopub.execute_input": "2020-10-24T12:09:26.388624Z",
     "iopub.status.busy": "2020-10-24T12:09:26.387825Z",
     "iopub.status.idle": "2020-10-24T12:09:26.619483Z",
     "shell.execute_reply": "2020-10-24T12:09:26.618743Z"
    },
    "papermill": {
     "duration": 0.26648,
     "end_time": "2020-10-24T12:09:26.619611",
     "exception": false,
     "start_time": "2020-10-24T12:09:26.353131",
     "status": "completed"
    },
    "tags": []
   },
   "outputs": [
    {
     "data": {
      "text/plain": [
       "(array([-2000.,     0.,  2000.,  4000.,  6000.,  8000., 10000., 12000.]),\n",
       " <a list of 8 Text major ticklabel objects>)"
      ]
     },
     "execution_count": 6,
     "metadata": {},
     "output_type": "execute_result"
    },
    {
     "data": {
      "image/png": "[encoded data removed]",
      "text/plain": [
       "<Figure size 432x288 with 1 Axes>"
      ]
     },
     "metadata": {
      "needs_background": "light"
     },
     "output_type": "display_data"
    }
   ],
   "source": [
    "yhoo=data_df[data_df['security_symbol']=='YHOO']\n",
    "yhoo=yhoo.set_index('date')\n",
    "#yhoo_close=yhoo.close.values.astype('float32')\n",
    "#yhoo_close.shape\n",
    "ax=yhoo['close'].plot()\n",
    "plt.xticks(rotation=90)"
   ]
  },
  {
   "cell_type": "code",
   "execution_count": 7,
   "metadata": {
    "execution": {
     "iopub.execute_input": "2020-10-24T12:09:26.688513Z",
     "iopub.status.busy": "2020-10-24T12:09:26.674313Z",
     "iopub.status.idle": "2020-10-24T12:09:26.981873Z",
     "shell.execute_reply": "2020-10-24T12:09:26.981256Z"
    },
    "papermill": {
     "duration": 0.339029,
     "end_time": "2020-10-24T12:09:26.981994",
     "exception": false,
     "start_time": "2020-10-24T12:09:26.642965",
     "status": "completed"
    },
    "tags": []
   },
   "outputs": [
    {
     "data": {
      "text/html": [
       "<div>\n",
       "<style scoped>\n",
       "    .dataframe tbody tr th:only-of-type {\n",
       "        vertical-align: middle;\n",
       "    }\n",
       "\n",
       "    .dataframe tbody tr th {\n",
       "        vertical-align: top;\n",
       "    }\n",
       "\n",
       "    .dataframe thead th {\n",
       "        text-align: right;\n",
       "    }\n",
       "</style>\n",
       "<table border=\"1\" class=\"dataframe\">\n",
       "  <thead>\n",
       "    <tr style=\"text-align: right;\">\n",
       "      <th></th>\n",
       "      <th>security_symbol</th>\n",
       "      <th>open</th>\n",
       "      <th>high</th>\n",
       "      <th>low</th>\n",
       "      <th>close</th>\n",
       "      <th>adjusted_close</th>\n",
       "      <th>volume</th>\n",
       "    </tr>\n",
       "    <tr>\n",
       "      <th>date</th>\n",
       "      <th></th>\n",
       "      <th></th>\n",
       "      <th></th>\n",
       "      <th></th>\n",
       "      <th></th>\n",
       "      <th></th>\n",
       "      <th></th>\n",
       "    </tr>\n",
       "  </thead>\n",
       "  <tbody>\n",
       "    <tr>\n",
       "      <th>2019-10-28</th>\n",
       "      <td>YHOO</td>\n",
       "      <td>3032.12</td>\n",
       "      <td>3044.08</td>\n",
       "      <td>3032.12</td>\n",
       "      <td>3039.42</td>\n",
       "      <td>3039.42</td>\n",
       "      <td>3521230000</td>\n",
       "    </tr>\n",
       "    <tr>\n",
       "      <th>2019-10-29</th>\n",
       "      <td>YHOO</td>\n",
       "      <td>3035.39</td>\n",
       "      <td>3047.87</td>\n",
       "      <td>3034.81</td>\n",
       "      <td>3036.89</td>\n",
       "      <td>3036.89</td>\n",
       "      <td>3589930000</td>\n",
       "    </tr>\n",
       "    <tr>\n",
       "      <th>2019-10-30</th>\n",
       "      <td>YHOO</td>\n",
       "      <td>3039.74</td>\n",
       "      <td>3050.10</td>\n",
       "      <td>3025.96</td>\n",
       "      <td>3046.77</td>\n",
       "      <td>3046.77</td>\n",
       "      <td>3776030000</td>\n",
       "    </tr>\n",
       "    <tr>\n",
       "      <th>2019-10-31</th>\n",
       "      <td>YHOO</td>\n",
       "      <td>3046.90</td>\n",
       "      <td>3046.90</td>\n",
       "      <td>3023.19</td>\n",
       "      <td>3037.56</td>\n",
       "      <td>3037.56</td>\n",
       "      <td>4139280000</td>\n",
       "    </tr>\n",
       "    <tr>\n",
       "      <th>2019-11-01</th>\n",
       "      <td>YHOO</td>\n",
       "      <td>3050.72</td>\n",
       "      <td>3066.95</td>\n",
       "      <td>3050.72</td>\n",
       "      <td>3066.91</td>\n",
       "      <td>3066.91</td>\n",
       "      <td>3930200000</td>\n",
       "    </tr>\n",
       "  </tbody>\n",
       "</table>\n",
       "</div>"
      ],
      "text/plain": [
       "           security_symbol     open     high      low    close  \\\n",
       "date                                                             \n",
       "2019-10-28            YHOO  3032.12  3044.08  3032.12  3039.42   \n",
       "2019-10-29            YHOO  3035.39  3047.87  3034.81  3036.89   \n",
       "2019-10-30            YHOO  3039.74  3050.10  3025.96  3046.77   \n",
       "2019-10-31            YHOO  3046.90  3046.90  3023.19  3037.56   \n",
       "2019-11-01            YHOO  3050.72  3066.95  3050.72  3066.91   \n",
       "\n",
       "            adjusted_close      volume  \n",
       "date                                    \n",
       "2019-10-28         3039.42  3521230000  \n",
       "2019-10-29         3036.89  3589930000  \n",
       "2019-10-30         3046.77  3776030000  \n",
       "2019-10-31         3037.56  4139280000  \n",
       "2019-11-01         3066.91  3930200000  "
      ]
     },
     "execution_count": 7,
     "metadata": {},
     "output_type": "execute_result"
    },
    {
     "data": {
      "image/png": "[encoded data removed]",
      "text/plain": [
       "<Figure size 432x288 with 1 Axes>"
      ]
     },
     "metadata": {
      "needs_background": "light"
     },
     "output_type": "display_data"
    }
   ],
   "source": [
    "from dateutil import parser\n",
    "past = datetime.now() - timedelta(days=365)\n",
    "#new_date = parser.parse(\"2018-11-10 10:55:31+00:00\")\n",
    "new_date = datetime.now()\n",
    "\n",
    "    \n",
    "data_df['date'] = pd.to_datetime(data_df['date'])  \n",
    "    \n",
    "#greater than the start date and smaller than the end date\n",
    "mask = (data_df['date'] < new_date) & (data_df['date'] > past)\n",
    "\n",
    "# On Covid-19 Pandemic\n",
    "end = datetime.now()\n",
    "start = datetime(end.year - 1, end.month, end.day)\n",
    "yhoo=data_df[data_df['security_symbol']=='YHOO']\n",
    "yhoo=yhoo.loc[mask]\n",
    "yhoo=yhoo.set_index('date')\n",
    "\n",
    "yhoo_close=yhoo.close.values.astype('float32')\n",
    "#yhoo_close.shape\n",
    "#ax=yhoo['close'].plot('r+')\n",
    "ax=yhoo['close'].plot()\n",
    "plt.xticks(rotation=90)\n",
    "yhoo.head()\n",
    "\n",
    "#plt.scatter(yhoo.index, yhoo['close'])"
   ]
  },
  {
   "cell_type": "code",
   "execution_count": 8,
   "metadata": {
    "execution": {
     "iopub.execute_input": "2020-10-24T12:09:27.045683Z",
     "iopub.status.busy": "2020-10-24T12:09:27.044503Z",
     "iopub.status.idle": "2020-10-24T12:09:27.241548Z",
     "shell.execute_reply": "2020-10-24T12:09:27.242250Z"
    },
    "papermill": {
     "duration": 0.235472,
     "end_time": "2020-10-24T12:09:27.242408",
     "exception": false,
     "start_time": "2020-10-24T12:09:27.006936",
     "status": "completed"
    },
    "tags": []
   },
   "outputs": [
    {
     "data": {
      "text/plain": [
       "(array([730851., 731581., 732312., 733042., 733773., 734503., 735234.,\n",
       "        735964., 736695., 737425., 738156.]),\n",
       " <a list of 11 Text major ticklabel objects>)"
      ]
     },
     "execution_count": 8,
     "metadata": {},
     "output_type": "execute_result"
    },
    {
     "data": {
      "image/png": "[encoded data removed]",
      "text/plain": [
       "<Figure size 432x288 with 1 Axes>"
      ]
     },
     "metadata": {
      "needs_background": "light"
     },
     "output_type": "display_data"
    }
   ],
   "source": [
    "goog=data_df[data_df['security_symbol']=='GOOG']\n",
    "goog=goog.set_index('date')\n",
    "#yhoo_close=yhoo.close.values.astype('float32')\n",
    "#yhoo_close.shape\n",
    "ax=goog['close'].plot()\n",
    "plt.xticks(rotation=90)"
   ]
  },
  {
   "cell_type": "code",
   "execution_count": 9,
   "metadata": {
    "execution": {
     "iopub.execute_input": "2020-10-24T12:09:27.321706Z",
     "iopub.status.busy": "2020-10-24T12:09:27.320896Z",
     "iopub.status.idle": "2020-10-24T12:09:27.526798Z",
     "shell.execute_reply": "2020-10-24T12:09:27.526034Z"
    },
    "papermill": {
     "duration": 0.258179,
     "end_time": "2020-10-24T12:09:27.526918",
     "exception": false,
     "start_time": "2020-10-24T12:09:27.268739",
     "status": "completed"
    },
    "tags": []
   },
   "outputs": [
    {
     "data": {
      "text/html": [
       "<div>\n",
       "<style scoped>\n",
       "    .dataframe tbody tr th:only-of-type {\n",
       "        vertical-align: middle;\n",
       "    }\n",
       "\n",
       "    .dataframe tbody tr th {\n",
       "        vertical-align: top;\n",
       "    }\n",
       "\n",
       "    .dataframe thead th {\n",
       "        text-align: right;\n",
       "    }\n",
       "</style>\n",
       "<table border=\"1\" class=\"dataframe\">\n",
       "  <thead>\n",
       "    <tr style=\"text-align: right;\">\n",
       "      <th></th>\n",
       "      <th>security_symbol</th>\n",
       "      <th>open</th>\n",
       "      <th>high</th>\n",
       "      <th>low</th>\n",
       "      <th>close</th>\n",
       "      <th>adjusted_close</th>\n",
       "      <th>volume</th>\n",
       "    </tr>\n",
       "    <tr>\n",
       "      <th>date</th>\n",
       "      <th></th>\n",
       "      <th></th>\n",
       "      <th></th>\n",
       "      <th></th>\n",
       "      <th></th>\n",
       "      <th></th>\n",
       "      <th></th>\n",
       "    </tr>\n",
       "  </thead>\n",
       "  <tbody>\n",
       "    <tr>\n",
       "      <th>2019-10-28</th>\n",
       "      <td>GOOG</td>\n",
       "      <td>1275.45</td>\n",
       "      <td>1299.31</td>\n",
       "      <td>1272.54</td>\n",
       "      <td>1290.00</td>\n",
       "      <td>1290.00</td>\n",
       "      <td>2613200</td>\n",
       "    </tr>\n",
       "    <tr>\n",
       "      <th>2019-10-29</th>\n",
       "      <td>GOOG</td>\n",
       "      <td>1276.23</td>\n",
       "      <td>1281.59</td>\n",
       "      <td>1257.21</td>\n",
       "      <td>1262.62</td>\n",
       "      <td>1262.62</td>\n",
       "      <td>1886400</td>\n",
       "    </tr>\n",
       "    <tr>\n",
       "      <th>2019-10-30</th>\n",
       "      <td>GOOG</td>\n",
       "      <td>1252.97</td>\n",
       "      <td>1269.36</td>\n",
       "      <td>1252.00</td>\n",
       "      <td>1261.29</td>\n",
       "      <td>1261.29</td>\n",
       "      <td>1408900</td>\n",
       "    </tr>\n",
       "    <tr>\n",
       "      <th>2019-10-31</th>\n",
       "      <td>GOOG</td>\n",
       "      <td>1261.28</td>\n",
       "      <td>1267.67</td>\n",
       "      <td>1250.84</td>\n",
       "      <td>1260.11</td>\n",
       "      <td>1260.11</td>\n",
       "      <td>1455700</td>\n",
       "    </tr>\n",
       "    <tr>\n",
       "      <th>2019-11-01</th>\n",
       "      <td>GOOG</td>\n",
       "      <td>1265.00</td>\n",
       "      <td>1274.62</td>\n",
       "      <td>1260.50</td>\n",
       "      <td>1273.74</td>\n",
       "      <td>1273.74</td>\n",
       "      <td>1670100</td>\n",
       "    </tr>\n",
       "  </tbody>\n",
       "</table>\n",
       "</div>"
      ],
      "text/plain": [
       "           security_symbol     open     high      low    close  \\\n",
       "date                                                             \n",
       "2019-10-28            GOOG  1275.45  1299.31  1272.54  1290.00   \n",
       "2019-10-29            GOOG  1276.23  1281.59  1257.21  1262.62   \n",
       "2019-10-30            GOOG  1252.97  1269.36  1252.00  1261.29   \n",
       "2019-10-31            GOOG  1261.28  1267.67  1250.84  1260.11   \n",
       "2019-11-01            GOOG  1265.00  1274.62  1260.50  1273.74   \n",
       "\n",
       "            adjusted_close   volume  \n",
       "date                                 \n",
       "2019-10-28         1290.00  2613200  \n",
       "2019-10-29         1262.62  1886400  \n",
       "2019-10-30         1261.29  1408900  \n",
       "2019-10-31         1260.11  1455700  \n",
       "2019-11-01         1273.74  1670100  "
      ]
     },
     "execution_count": 9,
     "metadata": {},
     "output_type": "execute_result"
    },
    {
     "data": {
      "image/png": "[encoded data removed]",
      "text/plain": [
       "<Figure size 432x288 with 1 Axes>"
      ]
     },
     "metadata": {
      "needs_background": "light"
     },
     "output_type": "display_data"
    }
   ],
   "source": [
    "data_df['date'] = pd.to_datetime(data_df['date'])  \n",
    "    \n",
    "#greater than the start date and smaller than the end date\n",
    "mask = (data_df['date'] < new_date) & (data_df['date'] > past)\n",
    "\n",
    "# On Covid-19 Pandemic\n",
    "end = datetime.now()\n",
    "start = datetime(end.year - 1, end.month, end.day)\n",
    "goog=data_df[data_df['security_symbol']=='GOOG']\n",
    "goog=goog.loc[mask]\n",
    "goog=goog.set_index('date')\n",
    "\n",
    "#yhoo_close=yhoo.close.values.astype('float32')\n",
    "#yhoo_close.shape\n",
    "#ax=yhoo['close'].plot('r+')\n",
    "ax=goog['close'].plot()\n",
    "plt.xticks(rotation=90)\n",
    "goog.head()\n",
    "\n",
    "#plt.scatter(yhoo.index, yhoo['close'])"
   ]
  },
  {
   "cell_type": "code",
   "execution_count": 10,
   "metadata": {
    "execution": {
     "iopub.execute_input": "2020-10-24T12:09:27.596521Z",
     "iopub.status.busy": "2020-10-24T12:09:27.595750Z",
     "iopub.status.idle": "2020-10-24T12:09:27.779394Z",
     "shell.execute_reply": "2020-10-24T12:09:27.779966Z"
    },
    "papermill": {
     "duration": 0.225118,
     "end_time": "2020-10-24T12:09:27.780157",
     "exception": false,
     "start_time": "2020-10-24T12:09:27.555039",
     "status": "completed"
    },
    "tags": []
   },
   "outputs": [
    {
     "data": {
      "text/plain": [
       "(array([734138., 734503., 734869., 735234., 735599., 735964., 736330.,\n",
       "        736695., 737060., 737425., 737791.]),\n",
       " <a list of 11 Text major ticklabel objects>)"
      ]
     },
     "execution_count": 10,
     "metadata": {},
     "output_type": "execute_result"
    },
    {
     "data": {
      "image/png": "[encoded data removed]",
      "text/plain": [
       "<Figure size 432x288 with 1 Axes>"
      ]
     },
     "metadata": {
      "needs_background": "light"
     },
     "output_type": "display_data"
    }
   ],
   "source": [
    "fb=data_df[data_df['security_symbol']=='FB']\n",
    "fb=fb.set_index('date')\n",
    "ax=fb['close'].plot()\n",
    "plt.xticks(rotation=90)"
   ]
  },
  {
   "cell_type": "code",
   "execution_count": 11,
   "metadata": {
    "execution": {
     "iopub.execute_input": "2020-10-24T12:09:27.873032Z",
     "iopub.status.busy": "2020-10-24T12:09:27.872281Z",
     "iopub.status.idle": "2020-10-24T12:09:28.090924Z",
     "shell.execute_reply": "2020-10-24T12:09:28.090260Z"
    },
    "papermill": {
     "duration": 0.275825,
     "end_time": "2020-10-24T12:09:28.091043",
     "exception": false,
     "start_time": "2020-10-24T12:09:27.815218",
     "status": "completed"
    },
    "tags": []
   },
   "outputs": [
    {
     "data": {
      "text/html": [
       "<div>\n",
       "<style scoped>\n",
       "    .dataframe tbody tr th:only-of-type {\n",
       "        vertical-align: middle;\n",
       "    }\n",
       "\n",
       "    .dataframe tbody tr th {\n",
       "        vertical-align: top;\n",
       "    }\n",
       "\n",
       "    .dataframe thead th {\n",
       "        text-align: right;\n",
       "    }\n",
       "</style>\n",
       "<table border=\"1\" class=\"dataframe\">\n",
       "  <thead>\n",
       "    <tr style=\"text-align: right;\">\n",
       "      <th></th>\n",
       "      <th>security_symbol</th>\n",
       "      <th>open</th>\n",
       "      <th>high</th>\n",
       "      <th>low</th>\n",
       "      <th>close</th>\n",
       "      <th>adjusted_close</th>\n",
       "      <th>volume</th>\n",
       "    </tr>\n",
       "    <tr>\n",
       "      <th>date</th>\n",
       "      <th></th>\n",
       "      <th></th>\n",
       "      <th></th>\n",
       "      <th></th>\n",
       "      <th></th>\n",
       "      <th></th>\n",
       "      <th></th>\n",
       "    </tr>\n",
       "  </thead>\n",
       "  <tbody>\n",
       "    <tr>\n",
       "      <th>2019-10-28</th>\n",
       "      <td>FB</td>\n",
       "      <td>187.20</td>\n",
       "      <td>189.53</td>\n",
       "      <td>185.08</td>\n",
       "      <td>189.40</td>\n",
       "      <td>189.40</td>\n",
       "      <td>13657900</td>\n",
       "    </tr>\n",
       "    <tr>\n",
       "      <th>2019-10-29</th>\n",
       "      <td>FB</td>\n",
       "      <td>191.69</td>\n",
       "      <td>192.53</td>\n",
       "      <td>188.47</td>\n",
       "      <td>189.31</td>\n",
       "      <td>189.31</td>\n",
       "      <td>13574900</td>\n",
       "    </tr>\n",
       "    <tr>\n",
       "      <th>2019-10-30</th>\n",
       "      <td>FB</td>\n",
       "      <td>189.56</td>\n",
       "      <td>190.45</td>\n",
       "      <td>185.98</td>\n",
       "      <td>188.25</td>\n",
       "      <td>188.25</td>\n",
       "      <td>28734600</td>\n",
       "    </tr>\n",
       "    <tr>\n",
       "      <th>2019-10-31</th>\n",
       "      <td>FB</td>\n",
       "      <td>196.70</td>\n",
       "      <td>198.09</td>\n",
       "      <td>188.25</td>\n",
       "      <td>191.65</td>\n",
       "      <td>191.65</td>\n",
       "      <td>42286500</td>\n",
       "    </tr>\n",
       "    <tr>\n",
       "      <th>2019-11-01</th>\n",
       "      <td>FB</td>\n",
       "      <td>192.85</td>\n",
       "      <td>194.11</td>\n",
       "      <td>189.91</td>\n",
       "      <td>193.62</td>\n",
       "      <td>193.62</td>\n",
       "      <td>21711800</td>\n",
       "    </tr>\n",
       "  </tbody>\n",
       "</table>\n",
       "</div>"
      ],
      "text/plain": [
       "           security_symbol    open    high     low   close  adjusted_close  \\\n",
       "date                                                                         \n",
       "2019-10-28              FB  187.20  189.53  185.08  189.40          189.40   \n",
       "2019-10-29              FB  191.69  192.53  188.47  189.31          189.31   \n",
       "2019-10-30              FB  189.56  190.45  185.98  188.25          188.25   \n",
       "2019-10-31              FB  196.70  198.09  188.25  191.65          191.65   \n",
       "2019-11-01              FB  192.85  194.11  189.91  193.62          193.62   \n",
       "\n",
       "              volume  \n",
       "date                  \n",
       "2019-10-28  13657900  \n",
       "2019-10-29  13574900  \n",
       "2019-10-30  28734600  \n",
       "2019-10-31  42286500  \n",
       "2019-11-01  21711800  "
      ]
     },
     "execution_count": 11,
     "metadata": {},
     "output_type": "execute_result"
    },
    {
     "data": {
      "image/png": "[encoded data removed]",
      "text/plain": [
       "<Figure size 432x288 with 1 Axes>"
      ]
     },
     "metadata": {
      "needs_background": "light"
     },
     "output_type": "display_data"
    }
   ],
   "source": [
    "data_df['date'] = pd.to_datetime(data_df['date'])  \n",
    "    \n",
    "#greater than the start date and smaller than the end date\n",
    "mask = (data_df['date'] < new_date) & (data_df['date'] > past)\n",
    "\n",
    "# On Covid-19 Pandemic\n",
    "end = datetime.now()\n",
    "start = datetime(end.year - 1, end.month, end.day)\n",
    "fb=data_df[data_df['security_symbol']=='FB']\n",
    "fb=fb.loc[mask]\n",
    "fb=fb.set_index('date')\n",
    "\n",
    "#yhoo_close=yhoo.close.values.astype('float32')\n",
    "#yhoo_close.shape\n",
    "#ax=yhoo['close'].plot('r+')\n",
    "ax=fb['close'].plot()\n",
    "plt.xticks(rotation=90)\n",
    "fb.head()\n",
    "\n",
    "#plt.scatter(yhoo.index, yhoo['close'])"
   ]
  },
  {
   "cell_type": "code",
   "execution_count": 12,
   "metadata": {
    "execution": {
     "iopub.execute_input": "2020-10-24T12:09:28.167782Z",
     "iopub.status.busy": "2020-10-24T12:09:28.166615Z",
     "iopub.status.idle": "2020-10-24T12:09:28.352143Z",
     "shell.execute_reply": "2020-10-24T12:09:28.351373Z"
    },
    "papermill": {
     "duration": 0.229352,
     "end_time": "2020-10-24T12:09:28.352273",
     "exception": false,
     "start_time": "2020-10-24T12:09:28.122921",
     "status": "completed"
    },
    "tags": []
   },
   "outputs": [
    {
     "data": {
      "text/plain": [
       "(array([728659., 730120., 731581., 733042., 734503., 735964., 737425.,\n",
       "        738886.]),\n",
       " <a list of 8 Text major ticklabel objects>)"
      ]
     },
     "execution_count": 12,
     "metadata": {},
     "output_type": "execute_result"
    },
    {
     "data": {
      "image/png": "[encoded data removed]",
      "text/plain": [
       "<Figure size 432x288 with 1 Axes>"
      ]
     },
     "metadata": {
      "needs_background": "light"
     },
     "output_type": "display_data"
    }
   ],
   "source": [
    "amzn=data_df[data_df['security_symbol']=='AMZN']\n",
    "amzn=amzn.set_index('date')\n",
    "ax=amzn['close'].plot()\n",
    "plt.xticks(rotation=90)"
   ]
  },
  {
   "cell_type": "code",
   "execution_count": 13,
   "metadata": {
    "execution": {
     "iopub.execute_input": "2020-10-24T12:09:28.446812Z",
     "iopub.status.busy": "2020-10-24T12:09:28.445712Z",
     "iopub.status.idle": "2020-10-24T12:09:28.657228Z",
     "shell.execute_reply": "2020-10-24T12:09:28.656444Z"
    },
    "papermill": {
     "duration": 0.27169,
     "end_time": "2020-10-24T12:09:28.657355",
     "exception": false,
     "start_time": "2020-10-24T12:09:28.385665",
     "status": "completed"
    },
    "tags": []
   },
   "outputs": [
    {
     "data": {
      "text/html": [
       "<div>\n",
       "<style scoped>\n",
       "    .dataframe tbody tr th:only-of-type {\n",
       "        vertical-align: middle;\n",
       "    }\n",
       "\n",
       "    .dataframe tbody tr th {\n",
       "        vertical-align: top;\n",
       "    }\n",
       "\n",
       "    .dataframe thead th {\n",
       "        text-align: right;\n",
       "    }\n",
       "</style>\n",
       "<table border=\"1\" class=\"dataframe\">\n",
       "  <thead>\n",
       "    <tr style=\"text-align: right;\">\n",
       "      <th></th>\n",
       "      <th>security_symbol</th>\n",
       "      <th>open</th>\n",
       "      <th>high</th>\n",
       "      <th>low</th>\n",
       "      <th>close</th>\n",
       "      <th>adjusted_close</th>\n",
       "      <th>volume</th>\n",
       "    </tr>\n",
       "    <tr>\n",
       "      <th>date</th>\n",
       "      <th></th>\n",
       "      <th></th>\n",
       "      <th></th>\n",
       "      <th></th>\n",
       "      <th></th>\n",
       "      <th></th>\n",
       "      <th></th>\n",
       "    </tr>\n",
       "  </thead>\n",
       "  <tbody>\n",
       "    <tr>\n",
       "      <th>2019-10-28</th>\n",
       "      <td>AMZN</td>\n",
       "      <td>1748.06</td>\n",
       "      <td>1778.70</td>\n",
       "      <td>1742.50</td>\n",
       "      <td>1777.08</td>\n",
       "      <td>1777.08</td>\n",
       "      <td>3708900</td>\n",
       "    </tr>\n",
       "    <tr>\n",
       "      <th>2019-10-29</th>\n",
       "      <td>AMZN</td>\n",
       "      <td>1774.81</td>\n",
       "      <td>1777.00</td>\n",
       "      <td>1755.81</td>\n",
       "      <td>1762.71</td>\n",
       "      <td>1762.71</td>\n",
       "      <td>2276900</td>\n",
       "    </tr>\n",
       "    <tr>\n",
       "      <th>2019-10-30</th>\n",
       "      <td>AMZN</td>\n",
       "      <td>1760.24</td>\n",
       "      <td>1782.38</td>\n",
       "      <td>1759.12</td>\n",
       "      <td>1779.99</td>\n",
       "      <td>1779.99</td>\n",
       "      <td>2449400</td>\n",
       "    </tr>\n",
       "    <tr>\n",
       "      <th>2019-10-31</th>\n",
       "      <td>AMZN</td>\n",
       "      <td>1775.99</td>\n",
       "      <td>1792.00</td>\n",
       "      <td>1771.48</td>\n",
       "      <td>1776.66</td>\n",
       "      <td>1776.66</td>\n",
       "      <td>2781200</td>\n",
       "    </tr>\n",
       "    <tr>\n",
       "      <th>2019-11-01</th>\n",
       "      <td>AMZN</td>\n",
       "      <td>1788.01</td>\n",
       "      <td>1797.45</td>\n",
       "      <td>1785.21</td>\n",
       "      <td>1791.44</td>\n",
       "      <td>1791.44</td>\n",
       "      <td>2790400</td>\n",
       "    </tr>\n",
       "  </tbody>\n",
       "</table>\n",
       "</div>"
      ],
      "text/plain": [
       "           security_symbol     open     high      low    close  \\\n",
       "date                                                             \n",
       "2019-10-28            AMZN  1748.06  1778.70  1742.50  1777.08   \n",
       "2019-10-29            AMZN  1774.81  1777.00  1755.81  1762.71   \n",
       "2019-10-30            AMZN  1760.24  1782.38  1759.12  1779.99   \n",
       "2019-10-31            AMZN  1775.99  1792.00  1771.48  1776.66   \n",
       "2019-11-01            AMZN  1788.01  1797.45  1785.21  1791.44   \n",
       "\n",
       "            adjusted_close   volume  \n",
       "date                                 \n",
       "2019-10-28         1777.08  3708900  \n",
       "2019-10-29         1762.71  2276900  \n",
       "2019-10-30         1779.99  2449400  \n",
       "2019-10-31         1776.66  2781200  \n",
       "2019-11-01         1791.44  2790400  "
      ]
     },
     "execution_count": 13,
     "metadata": {},
     "output_type": "execute_result"
    },
    {
     "data": {
      "image/png": "[encoded data removed]",
      "text/plain": [
       "<Figure size 432x288 with 1 Axes>"
      ]
     },
     "metadata": {
      "needs_background": "light"
     },
     "output_type": "display_data"
    }
   ],
   "source": [
    "data_df['date'] = pd.to_datetime(data_df['date'])  \n",
    "    \n",
    "#greater than the start date and smaller than the end date\n",
    "mask = (data_df['date'] < new_date) & (data_df['date'] > past)\n",
    "\n",
    "# On Covid-19 Pandemic\n",
    "end = datetime.now()\n",
    "start = datetime(end.year - 1, end.month, end.day)\n",
    "amzn=data_df[data_df['security_symbol']=='AMZN']\n",
    "amzn=amzn.loc[mask]\n",
    "amzn=amzn.set_index('date')\n",
    "\n",
    "#yhoo_close=yhoo.close.values.astype('float32')\n",
    "#yhoo_close.shape\n",
    "#ax=yhoo['close'].plot('r+')\n",
    "ax=amzn['close'].plot()\n",
    "plt.xticks(rotation=90)\n",
    "amzn.head()\n",
    "\n",
    "#plt.scatter(yhoo.index, yhoo['close'])"
   ]
  },
  {
   "cell_type": "code",
   "execution_count": 14,
   "metadata": {
    "execution": {
     "iopub.execute_input": "2020-10-24T12:09:28.740000Z",
     "iopub.status.busy": "2020-10-24T12:09:28.738851Z",
     "iopub.status.idle": "2020-10-24T12:09:28.940275Z",
     "shell.execute_reply": "2020-10-24T12:09:28.939530Z"
    },
    "papermill": {
     "duration": 0.248005,
     "end_time": "2020-10-24T12:09:28.940407",
     "exception": false,
     "start_time": "2020-10-24T12:09:28.692402",
     "status": "completed"
    },
    "tags": []
   },
   "outputs": [
    {
     "data": {
      "text/plain": [
       "(array([720989., 722815., 724642., 726468., 728294., 730120., 731947.,\n",
       "        733773., 735599., 737425., 739252.]),\n",
       " <a list of 11 Text major ticklabel objects>)"
      ]
     },
     "execution_count": 14,
     "metadata": {},
     "output_type": "execute_result"
    },
    {
     "data": {
      "image/png": "[encoded data removed]",
      "text/plain": [
       "<Figure size 432x288 with 1 Axes>"
      ]
     },
     "metadata": {
      "needs_background": "light"
     },
     "output_type": "display_data"
    }
   ],
   "source": [
    "aapl=data_df[data_df['security_symbol']=='AAPL']\n",
    "aapl=aapl.set_index('date')\n",
    "ax=aapl['close'].plot()\n",
    "plt.xticks(rotation=90)"
   ]
  },
  {
   "cell_type": "code",
   "execution_count": 15,
   "metadata": {
    "execution": {
     "iopub.execute_input": "2020-10-24T12:09:29.117394Z",
     "iopub.status.busy": "2020-10-24T12:09:29.116234Z",
     "iopub.status.idle": "2020-10-24T12:09:29.337227Z",
     "shell.execute_reply": "2020-10-24T12:09:29.336564Z"
    },
    "papermill": {
     "duration": 0.358319,
     "end_time": "2020-10-24T12:09:29.337350",
     "exception": false,
     "start_time": "2020-10-24T12:09:28.979031",
     "status": "completed"
    },
    "tags": []
   },
   "outputs": [
    {
     "data": {
      "text/html": [
       "<div>\n",
       "<style scoped>\n",
       "    .dataframe tbody tr th:only-of-type {\n",
       "        vertical-align: middle;\n",
       "    }\n",
       "\n",
       "    .dataframe tbody tr th {\n",
       "        vertical-align: top;\n",
       "    }\n",
       "\n",
       "    .dataframe thead th {\n",
       "        text-align: right;\n",
       "    }\n",
       "</style>\n",
       "<table border=\"1\" class=\"dataframe\">\n",
       "  <thead>\n",
       "    <tr style=\"text-align: right;\">\n",
       "      <th></th>\n",
       "      <th>security_symbol</th>\n",
       "      <th>open</th>\n",
       "      <th>high</th>\n",
       "      <th>low</th>\n",
       "      <th>close</th>\n",
       "      <th>adjusted_close</th>\n",
       "      <th>volume</th>\n",
       "    </tr>\n",
       "    <tr>\n",
       "      <th>date</th>\n",
       "      <th></th>\n",
       "      <th></th>\n",
       "      <th></th>\n",
       "      <th></th>\n",
       "      <th></th>\n",
       "      <th></th>\n",
       "      <th></th>\n",
       "    </tr>\n",
       "  </thead>\n",
       "  <tbody>\n",
       "    <tr>\n",
       "      <th>2019-10-28</th>\n",
       "      <td>AMZN</td>\n",
       "      <td>1748.06</td>\n",
       "      <td>1778.70</td>\n",
       "      <td>1742.50</td>\n",
       "      <td>1777.08</td>\n",
       "      <td>1777.08</td>\n",
       "      <td>3708900</td>\n",
       "    </tr>\n",
       "    <tr>\n",
       "      <th>2019-10-29</th>\n",
       "      <td>AMZN</td>\n",
       "      <td>1774.81</td>\n",
       "      <td>1777.00</td>\n",
       "      <td>1755.81</td>\n",
       "      <td>1762.71</td>\n",
       "      <td>1762.71</td>\n",
       "      <td>2276900</td>\n",
       "    </tr>\n",
       "    <tr>\n",
       "      <th>2019-10-30</th>\n",
       "      <td>AMZN</td>\n",
       "      <td>1760.24</td>\n",
       "      <td>1782.38</td>\n",
       "      <td>1759.12</td>\n",
       "      <td>1779.99</td>\n",
       "      <td>1779.99</td>\n",
       "      <td>2449400</td>\n",
       "    </tr>\n",
       "    <tr>\n",
       "      <th>2019-10-31</th>\n",
       "      <td>AMZN</td>\n",
       "      <td>1775.99</td>\n",
       "      <td>1792.00</td>\n",
       "      <td>1771.48</td>\n",
       "      <td>1776.66</td>\n",
       "      <td>1776.66</td>\n",
       "      <td>2781200</td>\n",
       "    </tr>\n",
       "    <tr>\n",
       "      <th>2019-11-01</th>\n",
       "      <td>AMZN</td>\n",
       "      <td>1788.01</td>\n",
       "      <td>1797.45</td>\n",
       "      <td>1785.21</td>\n",
       "      <td>1791.44</td>\n",
       "      <td>1791.44</td>\n",
       "      <td>2790400</td>\n",
       "    </tr>\n",
       "  </tbody>\n",
       "</table>\n",
       "</div>"
      ],
      "text/plain": [
       "           security_symbol     open     high      low    close  \\\n",
       "date                                                             \n",
       "2019-10-28            AMZN  1748.06  1778.70  1742.50  1777.08   \n",
       "2019-10-29            AMZN  1774.81  1777.00  1755.81  1762.71   \n",
       "2019-10-30            AMZN  1760.24  1782.38  1759.12  1779.99   \n",
       "2019-10-31            AMZN  1775.99  1792.00  1771.48  1776.66   \n",
       "2019-11-01            AMZN  1788.01  1797.45  1785.21  1791.44   \n",
       "\n",
       "            adjusted_close   volume  \n",
       "date                                 \n",
       "2019-10-28         1777.08  3708900  \n",
       "2019-10-29         1762.71  2276900  \n",
       "2019-10-30         1779.99  2449400  \n",
       "2019-10-31         1776.66  2781200  \n",
       "2019-11-01         1791.44  2790400  "
      ]
     },
     "execution_count": 15,
     "metadata": {},
     "output_type": "execute_result"
    },
    {
     "data": {
      "image/png": "[encoded data removed]",
      "text/plain": [
       "<Figure size 432x288 with 1 Axes>"
      ]
     },
     "metadata": {
      "needs_background": "light"
     },
     "output_type": "display_data"
    }
   ],
   "source": [
    "data_df['date'] = pd.to_datetime(data_df['date'])  \n",
    "    \n",
    "#greater than the start date and smaller than the end date\n",
    "mask = (data_df['date'] < new_date) & (data_df['date'] > past)\n",
    "\n",
    "# On Covid-19 Pandemic\n",
    "end = datetime.now()\n",
    "start = datetime(end.year - 1, end.month, end.day)\n",
    "aapl=data_df[data_df['security_symbol']=='AAPL']\n",
    "aapl=aapl.loc[mask]\n",
    "aapl=aapl.set_index('date')\n",
    "\n",
    "#yhoo_close=yhoo.close.values.astype('float32')\n",
    "#yhoo_close.shape\n",
    "#ax=yhoo['close'].plot('r+')\n",
    "ax=aapl['close'].plot()\n",
    "plt.xticks(rotation=90)\n",
    "amzn.head()\n",
    "\n",
    "#plt.scatter(yhoo.index, yhoo['close'])"
   ]
  },
  {
   "cell_type": "markdown",
   "metadata": {
    "papermill": {
     "duration": 0.037607,
     "end_time": "2020-10-24T12:09:29.413518",
     "exception": false,
     "start_time": "2020-10-24T12:09:29.375911",
     "status": "completed"
    },
    "tags": []
   },
   "source": [
    "# 2 Moving Average for Each Stocks\n",
    "\n",
    "Let's move out to a new section: moving average. Moving average is a tool (often used in stock analysis) to make the curve smooth by using method of updating average price. The interval used for moving average can be 10 minutes, 20 minutes, 10 days, 45 weeks, or anything depending to the trader decision. \n",
    "\n",
    "According to https://www.investopedia.com/articles/active-trading/052014/how-use-moving-average-buy-stocks.asp, there are some key points of using moving average (MA):\n",
    "\n",
    "* MA can be used for smoothing the price trends in some interval time that the trader chooses\n",
    "* MA can be used for identifying the level of support and resistance\n",
    "\n"
   ]
  },
  {
   "cell_type": "code",
   "execution_count": 16,
   "metadata": {
    "execution": {
     "iopub.execute_input": "2020-10-24T12:09:29.507718Z",
     "iopub.status.busy": "2020-10-24T12:09:29.506939Z",
     "iopub.status.idle": "2020-10-24T12:09:30.441070Z",
     "shell.execute_reply": "2020-10-24T12:09:30.440124Z"
    },
    "papermill": {
     "duration": 0.988839,
     "end_time": "2020-10-24T12:09:30.441267",
     "exception": false,
     "start_time": "2020-10-24T12:09:29.452428",
     "status": "completed"
    },
    "tags": []
   },
   "outputs": [
    {
     "name": "stdout",
     "output_type": "stream",
     "text": [
      "10036\n",
      "9947\n",
      "10036\n"
     ]
    },
    {
     "data": {
      "text/plain": [
       "Text(0.5, 1.0, 'Yahoo MA 90')"
      ]
     },
     "execution_count": 16,
     "metadata": {},
     "output_type": "execute_result"
    },
    {
     "data": {
      "image/png": "[encoded data removed]",
      "text/plain": [
       "<Figure size 432x288 with 1 Axes>"
      ]
     },
     "metadata": {
      "needs_background": "light"
     },
     "output_type": "display_data"
    }
   ],
   "source": [
    "ma_yhoo=[]\n",
    "window_size = 90\n",
    "i=0\n",
    "yhoo=data_df[data_df['security_symbol']=='YHOO']\n",
    "\n",
    "while i<len(yhoo['close'])-window_size+1:\n",
    "    this_window=yhoo['close'][i:i+window_size]\n",
    "    window_average=sum(this_window)/window_size\n",
    "    ma_yhoo.append(window_average)\n",
    "    i+=1\n",
    "print(len(yhoo.close))    \n",
    "print(len(ma_yhoo))\n",
    "\n",
    "a=np.empty(90-1).tolist()\n",
    "#print(len(a))\n",
    "#a=pd.concat(a,ma_yhoo)\n",
    "\n",
    "a.extend(ma_yhoo)\n",
    "\n",
    "\n",
    "print(len(a))\n",
    "\n",
    "plt.plot(a)\n",
    "plt.title(\"Yahoo MA 90\")"
   ]
  },
  {
   "cell_type": "code",
   "execution_count": 17,
   "metadata": {
    "execution": {
     "iopub.execute_input": "2020-10-24T12:09:30.545241Z",
     "iopub.status.busy": "2020-10-24T12:09:30.544311Z",
     "iopub.status.idle": "2020-10-24T12:09:31.038318Z",
     "shell.execute_reply": "2020-10-24T12:09:31.037581Z"
    },
    "papermill": {
     "duration": 0.555617,
     "end_time": "2020-10-24T12:09:31.038453",
     "exception": false,
     "start_time": "2020-10-24T12:09:30.482836",
     "status": "completed"
    },
    "tags": []
   },
   "outputs": [
    {
     "name": "stdout",
     "output_type": "stream",
     "text": [
      "4058\n",
      "3969\n",
      "4058\n"
     ]
    },
    {
     "data": {
      "text/plain": [
       "Text(0.5, 1.0, 'Google MA 90')"
      ]
     },
     "execution_count": 17,
     "metadata": {},
     "output_type": "execute_result"
    },
    {
     "data": {
      "image/png": "[encoded data removed]",
      "text/plain": [
       "<Figure size 432x288 with 1 Axes>"
      ]
     },
     "metadata": {
      "needs_background": "light"
     },
     "output_type": "display_data"
    }
   ],
   "source": [
    "ma_goog=[]\n",
    "window_size = 90\n",
    "i=0\n",
    "goog=data_df[data_df['security_symbol']=='GOOG']\n",
    "\n",
    "while i<len(goog['close'])-window_size+1:\n",
    "    this_window=goog['close'][i:i+window_size]\n",
    "    window_average=sum(this_window)/window_size\n",
    "    ma_goog.append(window_average)\n",
    "    i+=1\n",
    "print(len(goog.close))    \n",
    "print(len(ma_goog))\n",
    "\n",
    "a=np.empty(90-1).tolist()\n",
    "#print(len(a))\n",
    "#a=pd.concat(a,ma_yhoo)\n",
    "\n",
    "a.extend(ma_goog)\n",
    "\n",
    "\n",
    "print(len(a))\n",
    "\n",
    "plt.plot(a)\n",
    "plt.title(\"Google MA 90\")"
   ]
  },
  {
   "cell_type": "code",
   "execution_count": 18,
   "metadata": {
    "execution": {
     "iopub.execute_input": "2020-10-24T12:09:31.141763Z",
     "iopub.status.busy": "2020-10-24T12:09:31.140945Z",
     "iopub.status.idle": "2020-10-24T12:09:31.712915Z",
     "shell.execute_reply": "2020-10-24T12:09:31.712341Z"
    },
    "papermill": {
     "duration": 0.631369,
     "end_time": "2020-10-24T12:09:31.713038",
     "exception": false,
     "start_time": "2020-10-24T12:09:31.081669",
     "status": "completed"
    },
    "tags": []
   },
   "outputs": [
    {
     "name": "stdout",
     "output_type": "stream",
     "text": [
      "5884\n",
      "5795\n",
      "5884\n"
     ]
    },
    {
     "data": {
      "text/plain": [
       "Text(0.5, 1.0, 'Amazon MA 90')"
      ]
     },
     "execution_count": 18,
     "metadata": {},
     "output_type": "execute_result"
    },
    {
     "data": {
      "image/png": "[encoded data removed]",
      "text/plain": [
       "<Figure size 432x288 with 1 Axes>"
      ]
     },
     "metadata": {
      "needs_background": "light"
     },
     "output_type": "display_data"
    }
   ],
   "source": [
    "ma_amzn=[]\n",
    "window_size = 90\n",
    "i=0\n",
    "amzn=data_df[data_df['security_symbol']=='AMZN']\n",
    "\n",
    "while i<len(amzn['close'])-window_size+1:\n",
    "    this_window=amzn['close'][i:i+window_size]\n",
    "    window_average=sum(this_window)/window_size\n",
    "    ma_amzn.append(window_average)\n",
    "    i+=1\n",
    "print(len(amzn.close))    \n",
    "print(len(ma_amzn))\n",
    "\n",
    "a=np.empty(90-1).tolist()\n",
    "#print(len(a))\n",
    "#a=pd.concat(a,ma_yhoo)\n",
    "\n",
    "a.extend(ma_amzn)\n",
    "\n",
    "\n",
    "print(len(a))\n",
    "\n",
    "plt.plot(a)\n",
    "plt.title(\"Amazon MA 90\")"
   ]
  },
  {
   "cell_type": "code",
   "execution_count": 19,
   "metadata": {
    "execution": {
     "iopub.execute_input": "2020-10-24T12:09:31.829805Z",
     "iopub.status.busy": "2020-10-24T12:09:31.818175Z",
     "iopub.status.idle": "2020-10-24T12:09:32.122051Z",
     "shell.execute_reply": "2020-10-24T12:09:32.121257Z"
    },
    "papermill": {
     "duration": 0.365401,
     "end_time": "2020-10-24T12:09:32.122202",
     "exception": false,
     "start_time": "2020-10-24T12:09:31.756801",
     "status": "completed"
    },
    "tags": []
   },
   "outputs": [
    {
     "name": "stdout",
     "output_type": "stream",
     "text": [
      "2106\n"
     ]
    },
    {
     "data": {
      "text/plain": [
       "Text(0.5, 1.0, 'FB MA 90')"
      ]
     },
     "execution_count": 19,
     "metadata": {},
     "output_type": "execute_result"
    },
    {
     "data": {
      "image/png": "[encoded data removed]",
      "text/plain": [
       "<Figure size 432x288 with 1 Axes>"
      ]
     },
     "metadata": {
      "needs_background": "light"
     },
     "output_type": "display_data"
    }
   ],
   "source": [
    "ma_fb=[]\n",
    "window_size = 90\n",
    "i=0\n",
    "fb=data_df[data_df['security_symbol']=='FB']\n",
    "\n",
    "while i<len(fb['close'])-window_size+1:\n",
    "    this_window=fb['close'][i:i+window_size]\n",
    "    window_average=sum(this_window)/window_size\n",
    "    ma_fb.append(window_average)\n",
    "    i+=1\n",
    "\n",
    "\n",
    "a=np.empty(90-1).tolist()\n",
    "#print(len(a))\n",
    "#a=pd.concat(a,ma_yhoo)\n",
    "\n",
    "a.extend(ma_fb)\n",
    "\n",
    "\n",
    "print(len(a))\n",
    "\n",
    "plt.plot(a)\n",
    "plt.title(\"FB MA 90\")"
   ]
  },
  {
   "cell_type": "code",
   "execution_count": 20,
   "metadata": {
    "execution": {
     "iopub.execute_input": "2020-10-24T12:09:32.233274Z",
     "iopub.status.busy": "2020-10-24T12:09:32.232400Z",
     "iopub.status.idle": "2020-10-24T12:09:33.109045Z",
     "shell.execute_reply": "2020-10-24T12:09:33.108451Z"
    },
    "papermill": {
     "duration": 0.939533,
     "end_time": "2020-10-24T12:09:33.109191",
     "exception": false,
     "start_time": "2020-10-24T12:09:32.169658",
     "status": "completed"
    },
    "tags": []
   },
   "outputs": [
    {
     "name": "stdout",
     "output_type": "stream",
     "text": [
      "10035\n"
     ]
    },
    {
     "data": {
      "text/plain": [
       "Text(0.5, 1.0, 'AAPL MA 90')"
      ]
     },
     "execution_count": 20,
     "metadata": {},
     "output_type": "execute_result"
    },
    {
     "data": {
      "image/png": "[encoded data removed]",
      "text/plain": [
       "<Figure size 432x288 with 1 Axes>"
      ]
     },
     "metadata": {
      "needs_background": "light"
     },
     "output_type": "display_data"
    }
   ],
   "source": [
    "ma_aapl=[]\n",
    "window_size = 90\n",
    "i=0\n",
    "aapl=data_df[data_df['security_symbol']=='AAPL']\n",
    "\n",
    "while i<len(aapl['close'])-window_size+1:\n",
    "    this_window=aapl['close'][i:i+window_size]\n",
    "    window_average=sum(this_window)/window_size\n",
    "    ma_aapl.append(window_average)\n",
    "    i+=1\n",
    "\n",
    "\n",
    "a=np.empty(90-1).tolist()\n",
    "#print(len(a))\n",
    "#a=pd.concat(a,ma_yhoo)\n",
    "\n",
    "a.extend(ma_aapl)\n",
    "\n",
    "\n",
    "print(len(a))\n",
    "\n",
    "plt.plot(a)\n",
    "plt.title(\"AAPL MA 90\")"
   ]
  },
  {
   "cell_type": "markdown",
   "metadata": {
    "papermill": {
     "duration": 0.047249,
     "end_time": "2020-10-24T12:09:33.204649",
     "exception": false,
     "start_time": "2020-10-24T12:09:33.157400",
     "status": "completed"
    },
    "tags": []
   },
   "source": [
    "# will be updated."
   ]
  }
 ],
 "metadata": {
  "kernelspec": {
   "display_name": "Python 3",
   "language": "python",
   "name": "python3"
  },
  "language_info": {
   "codemirror_mode": {
    "name": "ipython",
    "version": 3
   },
   "file_extension": ".py",
   "mimetype": "text/x-python",
   "name": "python",
   "nbconvert_exporter": "python",
   "pygments_lexer": "ipython3",
   "version": "3.7.9"
  },
  "papermill": {
   "duration": 12.230413,
   "end_time": "2020-10-24T12:09:33.362025",
   "environment_variables": {},
   "exception": null,
   "input_path": "__notebook__.ipynb",
   "output_path": "__notebook__.ipynb",
   "parameters": {},
   "start_time": "2020-10-24T12:09:21.131612",
   "version": "2.1.0"
  }
 },
 "nbformat": 4,
 "nbformat_minor": 4
}
