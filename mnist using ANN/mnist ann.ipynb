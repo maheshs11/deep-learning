{
  "nbformat": 4,
  "nbformat_minor": 0,
  "metadata": {
    "colab": {
      "name": "tf.ipynb",
      "provenance": []
    },
    "kernelspec": {
      "name": "python3",
      "display_name": "Python 3"
    },
    "accelerator": "GPU"
  },
  "cells": [
    {
      "cell_type": "code",
      "metadata": {
        "id": "CHm8uyhNHAs9",
        "colab": {
          "base_uri": "https://localhost:8080/"
        },
        "outputId": "054a04a3-8bf3-43a3-b87c-4373b6d882d1"
      },
      "source": [
        "!nvidia-smi"
      ],
      "execution_count": null,
      "outputs": [
        {
          "output_type": "stream",
          "text": [
            "Thu Feb  4 13:26:11 2021       \n",
            "+-----------------------------------------------------------------------------+\n",
            "| NVIDIA-SMI 460.39       Driver Version: 418.67       CUDA Version: 10.1     |\n",
            "|-------------------------------+----------------------+----------------------+\n",
            "| GPU  Name        Persistence-M| Bus-Id        Disp.A | Volatile Uncorr. ECC |\n",
            "| Fan  Temp  Perf  Pwr:Usage/Cap|         Memory-Usage | GPU-Util  Compute M. |\n",
            "|                               |                      |               MIG M. |\n",
            "|===============================+======================+======================|\n",
            "|   0  Tesla T4            Off  | 00000000:00:04.0 Off |                    0 |\n",
            "| N/A   59C    P8    10W /  70W |      0MiB / 15079MiB |      0%      Default |\n",
            "|                               |                      |                 ERR! |\n",
            "+-------------------------------+----------------------+----------------------+\n",
            "                                                                               \n",
            "+-----------------------------------------------------------------------------+\n",
            "| Processes:                                                                  |\n",
            "|  GPU   GI   CI        PID   Type   Process name                  GPU Memory |\n",
            "|        ID   ID                                                   Usage      |\n",
            "|=============================================================================|\n",
            "|  No running processes found                                                 |\n",
            "+-----------------------------------------------------------------------------+\n"
          ],
          "name": "stdout"
        }
      ]
    },
    {
      "cell_type": "code",
      "metadata": {
        "id": "cLp1vouzHsLj",
        "colab": {
          "base_uri": "https://localhost:8080/"
        },
        "outputId": "d1cd7e03-a9b4-4ec0-b34a-940a65b6f0d9"
      },
      "source": [
        "import tensorflow as tf\n",
        "print(tf.ones(shape=(2,3)))"
      ],
      "execution_count": null,
      "outputs": [
        {
          "output_type": "stream",
          "text": [
            "tf.Tensor(\n",
            "[[1. 1. 1.]\n",
            " [1. 1. 1.]], shape=(2, 3), dtype=float32)\n"
          ],
          "name": "stdout"
        }
      ]
    },
    {
      "cell_type": "code",
      "metadata": {
        "colab": {
          "base_uri": "https://localhost:8080/"
        },
        "id": "rL_d0aH6a-wH",
        "outputId": "d1cd7e03-a9b4-4ec0-b34a-940a65b6f0d9"
      },
      "source": [
        "import tensorflow as tf\n",
        "print(tf.ones(shape=(2,3)))"
      ],
      "execution_count": null,
      "outputs": [
        {
          "output_type": "stream",
          "text": [
            "tf.Tensor(\n",
            "[[1. 1. 1.]\n",
            " [1. 1. 1.]], shape=(2, 3), dtype=float32)\n"
          ],
          "name": "stdout"
        }
      ]
    },
    {
      "cell_type": "code",
      "metadata": {
        "colab": {
          "base_uri": "https://localhost:8080/"
        },
        "id": "tuydeUDna5Y2",
        "outputId": "a94a69de-8db0-4633-819a-013e5bc46838"
      },
      "source": [
        "import tensorflow as tf\n",
        "print(tf.ones(shape=(2,3)))"
      ],
      "execution_count": null,
      "outputs": [
        {
          "output_type": "stream",
          "text": [
            "tf.Tensor(\n",
            "[[1. 1. 1.]\n",
            " [1. 1. 1.]], shape=(2, 3), dtype=float32)\n"
          ],
          "name": "stdout"
        }
      ]
    },
    {
      "cell_type": "code",
      "metadata": {
        "colab": {
          "base_uri": "https://localhost:8080/"
        },
        "id": "W0NKsxxlMa15",
        "outputId": "d246a72f-547a-4420-9655-61711187a38d"
      },
      "source": [
        "import tensorflow as tf\n",
        "\n",
        "t = tf.constant(2,3)\n",
        "t"
      ],
      "execution_count": null,
      "outputs": [
        {
          "output_type": "execute_result",
          "data": {
            "text/plain": [
              "<tf.Tensor: shape=(), dtype=int32, numpy=2>"
            ]
          },
          "metadata": {
            "tags": []
          },
          "execution_count": 5
        }
      ]
    },
    {
      "cell_type": "code",
      "metadata": {
        "id": "j5j5JRGFAEQ_"
      },
      "source": [
        "import tensorflow as tf\r\n",
        "from mnist import MNIST\r\n",
        "mndata = MNIST('./dir_with_mnist_data_files')"
      ],
      "execution_count": null,
      "outputs": []
    },
    {
      "cell_type": "code",
      "metadata": {
        "id": "nEXlbm3JfszJ",
        "colab": {
          "base_uri": "https://localhost:8080/",
          "height": 1000
        },
        "outputId": "8c630a3a-5aa0-4a3d-82e2-57d85f4d8b3a"
      },
      "source": [
        "import tensorflow as tf\n",
        "print(f\"Tensorflow Version: {tf.__version__}\")\n",
        "print(f\"Keras Version: {tf.keras.__version__}\")\n",
        "import numpy as np\n",
        "import matplotlib.pyplot as plt\n",
        "import pandas as pd\n",
        "import os\n",
        "import tensorflow as tf\n",
        "import seaborn as sns\n",
        "mnist = tf.keras.datasets.mnist\n",
        "(X_train_full, y_train_full), (X_test, y_test) = mnist.load_data()\n",
        "# Scale the data between 0 to 1 by dividing it by 255. as its an unsigned data between 0-255 range\n",
        "X_valid, X_train = X_train_full[:5000] / 255., X_train_full[5000:] / 255.\n",
        "y_valid, y_train = y_train_full[:5000], y_train_full[5000:]\n",
        "\n",
        "# scale the test set as well\n",
        "X_test = X_test / 255.\n",
        "LAYERS = [tf.keras.layers.Flatten(input_shape=[28, 28], name=\"inputLayer\"),\n",
        "          tf.keras.layers.Dense(130, activation=\"relu\", name=\"hiddenLayer71\"),\n",
        "          tf.keras.layers.Dense(100, activation=\"relu\", name=\"hiddenLayer102\"),\n",
        "          tf.keras.layers.Dense(100, activation=\"relu\", name=\"hiddenLayer312\"),\n",
        "          tf.keras.layers.Dense(50, activation=\"softmax\", name=\"outputLayer\")]\n",
        "\n",
        "model_clf = tf.keras.models.Sequential(LAYERS)\n",
        "LOSS_FUNCTION = \"sparse_categorical_crossentropy\" # use => tf.losses.sparse_categorical_crossentropy\n",
        "OPTIMIZER = 'adam' # or use with custom learning rate=> tf.keras.optimizers.SGD(0.02)\n",
        "METRICS = [\"accuracy\"]\n",
        "\n",
        "model_clf.compile(loss=LOSS_FUNCTION,optimizer=OPTIMIZER , metrics=METRICS)\n",
        "\n",
        "EPOCHS = 80\n",
        "\n",
        "VALIDATION_SET = (X_valid, y_valid)\n",
        "\n",
        "history = model_clf.fit(X_train, y_train, epochs=EPOCHS,\n",
        "                        validation_data=VALIDATION_SET)\n",
        "\n",
        "def saveModel_path(model_dir=\"SAVED_MODELS\"):\n",
        "    os.makedirs(model_dir, exist_ok=True)\n",
        "    fileName = time.strftime(\"Model_%Y_%m_%d_%H_%M_%S_.h5\")    \n",
        "    model_path = os.path.join(model_dir, fileName)\n",
        "    print(f\"your model will be saved at the following location\\n{model_path}\")\n",
        "    return model_path\n",
        "    UNIQUE_PATH = model_clf.save(saveModel_path())\n",
        "\n",
        "model_clf.evaluate(X_test, y_test)\n",
        "X_new = X_test[:3]\n",
        "y_proba = model_clf.predict(X_new)\n",
        "y_proba.round(2)\n",
        "y_pred = np.argmax(model_clf.predict(X_new), axis=-1)\n",
        "y_pred\n",
        "y_test_new = y_test[:3]\n",
        "\n",
        "for data, pred, actual in zip(X_new, y_pred, y_test_new):\n",
        "    plt.imshow(data, cmap=\"binary\")\n",
        "    plt.title(f\"Predicted: {pred}, Actual: {actual}\")\n",
        "    plt.axis('on')\n",
        "    plt.show()\n",
        "    print(\"---\"*20)\n",
        "\n",
        "\n",
        "\n",
        "\n"
      ],
      "execution_count": null,
      "outputs": [
        {
          "output_type": "stream",
          "text": [
            "Tensorflow Version: 2.3.0\n",
            "Keras Version: 2.4.0\n",
            "Downloading data from https://storage.googleapis.com/tensorflow/tf-keras-datasets/mnist.npz\n",
            "11493376/11490434 [==============================] - 0s 0us/step\n",
            "Epoch 1/80\n",
            "1719/1719 [==============================] - 4s 2ms/step - loss: 0.2655 - accuracy: 0.9199 - val_loss: 0.1240 - val_accuracy: 0.9612\n",
            "Epoch 2/80\n",
            "1719/1719 [==============================] - 4s 2ms/step - loss: 0.1067 - accuracy: 0.9667 - val_loss: 0.0981 - val_accuracy: 0.9698\n",
            "Epoch 3/80\n",
            "1719/1719 [==============================] - 4s 2ms/step - loss: 0.0760 - accuracy: 0.9762 - val_loss: 0.0885 - val_accuracy: 0.9720\n",
            "Epoch 4/80\n",
            "1719/1719 [==============================] - 4s 2ms/step - loss: 0.0599 - accuracy: 0.9811 - val_loss: 0.0837 - val_accuracy: 0.9762\n",
            "Epoch 5/80\n",
            "1719/1719 [==============================] - 4s 2ms/step - loss: 0.0491 - accuracy: 0.9838 - val_loss: 0.0752 - val_accuracy: 0.9788\n",
            "Epoch 6/80\n",
            "1719/1719 [==============================] - 4s 2ms/step - loss: 0.0400 - accuracy: 0.9870 - val_loss: 0.0935 - val_accuracy: 0.9774\n",
            "Epoch 7/80\n",
            "1719/1719 [==============================] - 4s 3ms/step - loss: 0.0338 - accuracy: 0.9891 - val_loss: 0.0873 - val_accuracy: 0.9776\n",
            "Epoch 8/80\n",
            "1719/1719 [==============================] - 4s 2ms/step - loss: 0.0299 - accuracy: 0.9907 - val_loss: 0.0909 - val_accuracy: 0.9770\n",
            "Epoch 9/80\n",
            "1719/1719 [==============================] - 4s 2ms/step - loss: 0.0259 - accuracy: 0.9916 - val_loss: 0.1109 - val_accuracy: 0.9744\n",
            "Epoch 10/80\n",
            "1719/1719 [==============================] - 4s 2ms/step - loss: 0.0252 - accuracy: 0.9916 - val_loss: 0.0948 - val_accuracy: 0.9804\n",
            "Epoch 11/80\n",
            "1719/1719 [==============================] - 4s 2ms/step - loss: 0.0211 - accuracy: 0.9927 - val_loss: 0.1131 - val_accuracy: 0.9748\n",
            "Epoch 12/80\n",
            "1719/1719 [==============================] - 4s 2ms/step - loss: 0.0174 - accuracy: 0.9940 - val_loss: 0.1017 - val_accuracy: 0.9766\n",
            "Epoch 13/80\n",
            "1719/1719 [==============================] - 4s 2ms/step - loss: 0.0194 - accuracy: 0.9938 - val_loss: 0.1076 - val_accuracy: 0.9786\n",
            "Epoch 14/80\n",
            "1719/1719 [==============================] - 4s 2ms/step - loss: 0.0169 - accuracy: 0.9942 - val_loss: 0.1148 - val_accuracy: 0.9778\n",
            "Epoch 15/80\n",
            "1719/1719 [==============================] - 4s 2ms/step - loss: 0.0164 - accuracy: 0.9947 - val_loss: 0.1270 - val_accuracy: 0.9760\n",
            "Epoch 16/80\n",
            "1719/1719 [==============================] - 4s 2ms/step - loss: 0.0149 - accuracy: 0.9952 - val_loss: 0.1298 - val_accuracy: 0.9770\n",
            "Epoch 17/80\n",
            "1719/1719 [==============================] - 4s 2ms/step - loss: 0.0144 - accuracy: 0.9956 - val_loss: 0.1267 - val_accuracy: 0.9786\n",
            "Epoch 18/80\n",
            "1719/1719 [==============================] - 4s 2ms/step - loss: 0.0140 - accuracy: 0.9953 - val_loss: 0.1147 - val_accuracy: 0.9796\n",
            "Epoch 19/80\n",
            "1719/1719 [==============================] - 4s 2ms/step - loss: 0.0136 - accuracy: 0.9956 - val_loss: 0.1269 - val_accuracy: 0.9748\n",
            "Epoch 20/80\n",
            "1719/1719 [==============================] - 4s 2ms/step - loss: 0.0112 - accuracy: 0.9965 - val_loss: 0.1366 - val_accuracy: 0.9780\n",
            "Epoch 21/80\n",
            "1719/1719 [==============================] - 4s 2ms/step - loss: 0.0111 - accuracy: 0.9966 - val_loss: 0.1322 - val_accuracy: 0.9794\n",
            "Epoch 22/80\n",
            "1719/1719 [==============================] - 4s 2ms/step - loss: 0.0129 - accuracy: 0.9962 - val_loss: 0.1492 - val_accuracy: 0.9758\n",
            "Epoch 23/80\n",
            "1719/1719 [==============================] - 4s 2ms/step - loss: 0.0105 - accuracy: 0.9967 - val_loss: 0.1444 - val_accuracy: 0.9764\n",
            "Epoch 24/80\n",
            "1719/1719 [==============================] - 4s 2ms/step - loss: 0.0118 - accuracy: 0.9962 - val_loss: 0.1845 - val_accuracy: 0.9736\n",
            "Epoch 25/80\n",
            "1719/1719 [==============================] - 4s 2ms/step - loss: 0.0125 - accuracy: 0.9962 - val_loss: 0.1456 - val_accuracy: 0.9790\n",
            "Epoch 26/80\n",
            "1719/1719 [==============================] - 4s 2ms/step - loss: 0.0091 - accuracy: 0.9972 - val_loss: 0.1730 - val_accuracy: 0.9748\n",
            "Epoch 27/80\n",
            "1719/1719 [==============================] - 4s 2ms/step - loss: 0.0091 - accuracy: 0.9971 - val_loss: 0.1682 - val_accuracy: 0.9762\n",
            "Epoch 28/80\n",
            "1719/1719 [==============================] - 4s 2ms/step - loss: 0.0126 - accuracy: 0.9965 - val_loss: 0.1590 - val_accuracy: 0.9786\n",
            "Epoch 29/80\n",
            "1719/1719 [==============================] - 4s 2ms/step - loss: 0.0101 - accuracy: 0.9970 - val_loss: 0.1429 - val_accuracy: 0.9784\n",
            "Epoch 30/80\n",
            "1719/1719 [==============================] - 4s 2ms/step - loss: 0.0087 - accuracy: 0.9977 - val_loss: 0.1776 - val_accuracy: 0.9782\n",
            "Epoch 31/80\n",
            "1719/1719 [==============================] - 4s 2ms/step - loss: 0.0112 - accuracy: 0.9967 - val_loss: 0.1603 - val_accuracy: 0.9780\n",
            "Epoch 32/80\n",
            "1719/1719 [==============================] - 4s 2ms/step - loss: 0.0098 - accuracy: 0.9971 - val_loss: 0.1452 - val_accuracy: 0.9778\n",
            "Epoch 33/80\n",
            "1719/1719 [==============================] - 4s 2ms/step - loss: 0.0071 - accuracy: 0.9979 - val_loss: 0.1501 - val_accuracy: 0.9782\n",
            "Epoch 34/80\n",
            "1719/1719 [==============================] - 4s 2ms/step - loss: 0.0083 - accuracy: 0.9977 - val_loss: 0.1553 - val_accuracy: 0.9772\n",
            "Epoch 35/80\n",
            "1719/1719 [==============================] - 4s 2ms/step - loss: 0.0079 - accuracy: 0.9977 - val_loss: 0.1641 - val_accuracy: 0.9782\n",
            "Epoch 36/80\n",
            "1719/1719 [==============================] - 4s 2ms/step - loss: 0.0081 - accuracy: 0.9977 - val_loss: 0.1760 - val_accuracy: 0.9772\n",
            "Epoch 37/80\n",
            "1719/1719 [==============================] - 4s 2ms/step - loss: 0.0098 - accuracy: 0.9970 - val_loss: 0.2023 - val_accuracy: 0.9764\n",
            "Epoch 38/80\n",
            "1719/1719 [==============================] - 4s 2ms/step - loss: 0.0071 - accuracy: 0.9981 - val_loss: 0.1849 - val_accuracy: 0.9784\n",
            "Epoch 39/80\n",
            "1719/1719 [==============================] - 5s 3ms/step - loss: 0.0081 - accuracy: 0.9975 - val_loss: 0.1684 - val_accuracy: 0.9802\n",
            "Epoch 40/80\n",
            "1719/1719 [==============================] - 5s 3ms/step - loss: 0.0085 - accuracy: 0.9977 - val_loss: 0.2115 - val_accuracy: 0.9734\n",
            "Epoch 41/80\n",
            "1719/1719 [==============================] - 4s 2ms/step - loss: 0.0093 - accuracy: 0.9973 - val_loss: 0.1607 - val_accuracy: 0.9786\n",
            "Epoch 42/80\n",
            "1719/1719 [==============================] - 4s 2ms/step - loss: 0.0072 - accuracy: 0.9982 - val_loss: 0.1517 - val_accuracy: 0.9806\n",
            "Epoch 43/80\n",
            "1719/1719 [==============================] - 4s 2ms/step - loss: 0.0062 - accuracy: 0.9983 - val_loss: 0.1900 - val_accuracy: 0.9792\n",
            "Epoch 44/80\n",
            "1719/1719 [==============================] - 4s 2ms/step - loss: 0.0078 - accuracy: 0.9979 - val_loss: 0.1691 - val_accuracy: 0.9782\n",
            "Epoch 45/80\n",
            "1719/1719 [==============================] - 4s 2ms/step - loss: 0.0075 - accuracy: 0.9981 - val_loss: 0.2047 - val_accuracy: 0.9760\n",
            "Epoch 46/80\n",
            "1719/1719 [==============================] - 4s 2ms/step - loss: 0.0077 - accuracy: 0.9981 - val_loss: 0.2010 - val_accuracy: 0.9752\n",
            "Epoch 47/80\n",
            "1719/1719 [==============================] - 4s 3ms/step - loss: 0.0079 - accuracy: 0.9980 - val_loss: 0.1742 - val_accuracy: 0.9764\n",
            "Epoch 48/80\n",
            "1719/1719 [==============================] - 4s 2ms/step - loss: 0.0070 - accuracy: 0.9984 - val_loss: 0.1825 - val_accuracy: 0.9782\n",
            "Epoch 49/80\n",
            "1719/1719 [==============================] - 4s 2ms/step - loss: 0.0082 - accuracy: 0.9978 - val_loss: 0.2035 - val_accuracy: 0.9786\n",
            "Epoch 50/80\n",
            "1719/1719 [==============================] - 4s 2ms/step - loss: 0.0072 - accuracy: 0.9981 - val_loss: 0.1898 - val_accuracy: 0.9784\n",
            "Epoch 51/80\n",
            "1719/1719 [==============================] - 4s 2ms/step - loss: 0.0088 - accuracy: 0.9975 - val_loss: 0.1832 - val_accuracy: 0.9780\n",
            "Epoch 52/80\n",
            "1719/1719 [==============================] - 4s 2ms/step - loss: 0.0051 - accuracy: 0.9985 - val_loss: 0.1958 - val_accuracy: 0.9810\n",
            "Epoch 53/80\n",
            "1719/1719 [==============================] - 4s 2ms/step - loss: 0.0074 - accuracy: 0.9982 - val_loss: 0.2246 - val_accuracy: 0.9790\n",
            "Epoch 54/80\n",
            "1719/1719 [==============================] - 4s 2ms/step - loss: 0.0088 - accuracy: 0.9978 - val_loss: 0.2182 - val_accuracy: 0.9776\n",
            "Epoch 55/80\n",
            "1719/1719 [==============================] - 4s 2ms/step - loss: 0.0051 - accuracy: 0.9987 - val_loss: 0.1871 - val_accuracy: 0.9798\n",
            "Epoch 56/80\n",
            "1719/1719 [==============================] - 4s 2ms/step - loss: 0.0044 - accuracy: 0.9989 - val_loss: 0.2285 - val_accuracy: 0.9774\n",
            "Epoch 57/80\n",
            "1719/1719 [==============================] - 4s 2ms/step - loss: 0.0091 - accuracy: 0.9978 - val_loss: 0.1910 - val_accuracy: 0.9786\n",
            "Epoch 58/80\n",
            "1719/1719 [==============================] - 4s 2ms/step - loss: 0.0051 - accuracy: 0.9989 - val_loss: 0.1912 - val_accuracy: 0.9812\n",
            "Epoch 59/80\n",
            "1719/1719 [==============================] - 4s 2ms/step - loss: 0.0074 - accuracy: 0.9985 - val_loss: 0.2234 - val_accuracy: 0.9784\n",
            "Epoch 60/80\n",
            "1719/1719 [==============================] - 4s 2ms/step - loss: 0.0060 - accuracy: 0.9984 - val_loss: 0.2239 - val_accuracy: 0.9790\n",
            "Epoch 61/80\n",
            "1719/1719 [==============================] - 4s 3ms/step - loss: 0.0066 - accuracy: 0.9984 - val_loss: 0.2079 - val_accuracy: 0.9788\n",
            "Epoch 62/80\n",
            "1719/1719 [==============================] - 4s 2ms/step - loss: 0.0054 - accuracy: 0.9986 - val_loss: 0.2181 - val_accuracy: 0.9800\n",
            "Epoch 63/80\n",
            "1719/1719 [==============================] - 4s 2ms/step - loss: 0.0089 - accuracy: 0.9980 - val_loss: 0.2449 - val_accuracy: 0.9788\n",
            "Epoch 64/80\n",
            "1719/1719 [==============================] - 4s 2ms/step - loss: 0.0070 - accuracy: 0.9984 - val_loss: 0.2188 - val_accuracy: 0.9794\n",
            "Epoch 65/80\n",
            "1719/1719 [==============================] - 4s 2ms/step - loss: 0.0088 - accuracy: 0.9981 - val_loss: 0.2439 - val_accuracy: 0.9778\n",
            "Epoch 66/80\n",
            "1719/1719 [==============================] - 4s 2ms/step - loss: 0.0053 - accuracy: 0.9988 - val_loss: 0.2025 - val_accuracy: 0.9814\n",
            "Epoch 67/80\n",
            "1719/1719 [==============================] - 4s 2ms/step - loss: 0.0060 - accuracy: 0.9986 - val_loss: 0.2044 - val_accuracy: 0.9804\n",
            "Epoch 68/80\n",
            "1719/1719 [==============================] - 4s 2ms/step - loss: 0.0045 - accuracy: 0.9989 - val_loss: 0.2558 - val_accuracy: 0.9780\n",
            "Epoch 69/80\n",
            "1719/1719 [==============================] - 4s 2ms/step - loss: 0.0066 - accuracy: 0.9985 - val_loss: 0.2003 - val_accuracy: 0.9798\n",
            "Epoch 70/80\n",
            "1719/1719 [==============================] - 4s 2ms/step - loss: 0.0065 - accuracy: 0.9985 - val_loss: 0.1995 - val_accuracy: 0.9820\n",
            "Epoch 71/80\n",
            "1719/1719 [==============================] - 4s 2ms/step - loss: 0.0061 - accuracy: 0.9985 - val_loss: 0.2215 - val_accuracy: 0.9810\n",
            "Epoch 72/80\n",
            "1719/1719 [==============================] - 4s 2ms/step - loss: 0.0083 - accuracy: 0.9980 - val_loss: 0.2634 - val_accuracy: 0.9782\n",
            "Epoch 73/80\n",
            "1719/1719 [==============================] - 4s 2ms/step - loss: 0.0072 - accuracy: 0.9987 - val_loss: 0.2388 - val_accuracy: 0.9784\n",
            "Epoch 74/80\n",
            "1719/1719 [==============================] - 4s 2ms/step - loss: 0.0054 - accuracy: 0.9986 - val_loss: 0.2091 - val_accuracy: 0.9794\n",
            "Epoch 75/80\n",
            "1719/1719 [==============================] - 4s 2ms/step - loss: 0.0039 - accuracy: 0.9994 - val_loss: 0.2333 - val_accuracy: 0.9768\n",
            "Epoch 76/80\n",
            "1719/1719 [==============================] - 4s 2ms/step - loss: 0.0118 - accuracy: 0.9975 - val_loss: 0.2396 - val_accuracy: 0.9774\n",
            "Epoch 77/80\n",
            "1719/1719 [==============================] - 4s 2ms/step - loss: 0.0043 - accuracy: 0.9989 - val_loss: 0.2204 - val_accuracy: 0.9804\n",
            "Epoch 78/80\n",
            "1719/1719 [==============================] - 4s 2ms/step - loss: 0.0026 - accuracy: 0.9993 - val_loss: 0.2204 - val_accuracy: 0.9800\n",
            "Epoch 79/80\n",
            "1719/1719 [==============================] - 4s 2ms/step - loss: 0.0059 - accuracy: 0.9985 - val_loss: 0.2445 - val_accuracy: 0.9800\n",
            "Epoch 80/80\n",
            "1719/1719 [==============================] - 4s 2ms/step - loss: 0.0020 - accuracy: 0.9995 - val_loss: 0.2631 - val_accuracy: 0.9808\n",
            "313/313 [==============================] - 1s 2ms/step - loss: 0.2667 - accuracy: 0.9787\n"
          ],
          "name": "stdout"
        },
        {
          "output_type": "display_data",
          "data": {
            "image/png": "[encoded data removed]",
            "text/plain": [
              "<Figure size 432x288 with 1 Axes>"
            ]
          },
          "metadata": {
            "tags": [],
            "needs_background": "light"
          }
        },
        {
          "output_type": "stream",
          "text": [
            "------------------------------------------------------------\n"
          ],
          "name": "stdout"
        },
        {
          "output_type": "display_data",
          "data": {
            "image/png": "[encoded data removed]",
            "text/plain": [
              "<Figure size 432x288 with 1 Axes>"
            ]
          },
          "metadata": {
            "tags": [],
            "needs_background": "light"
          }
        },
        {
          "output_type": "stream",
          "text": [
            "------------------------------------------------------------\n"
          ],
          "name": "stdout"
        },
        {
          "output_type": "display_data",
          "data": {
            "image/png": "[encoded data removed]",
            "text/plain": [
              "<Figure size 432x288 with 1 Axes>"
            ]
          },
          "metadata": {
            "tags": [],
            "needs_background": "light"
          }
        },
        {
          "output_type": "stream",
          "text": [
            "------------------------------------------------------------\n"
          ],
          "name": "stdout"
        }
      ]
    },
    {
      "cell_type": "code",
      "metadata": {
        "id": "h1TjEjCoII7y"
      },
      "source": [
        ""
      ],
      "execution_count": null,
      "outputs": []
    },
    {
      "cell_type": "code",
      "metadata": {
        "id": "P6wQJZQAxrUP"
      },
      "source": [
        "\r\n"
      ],
      "execution_count": 1,
      "outputs": []
    },
    {
      "cell_type": "code",
      "metadata": {
        "id": "8xVJmJGoyvSz"
      },
      "source": [
        ""
      ],
      "execution_count": 1,
      "outputs": []
    },
    {
      "cell_type": "code",
      "metadata": {
        "id": "S4EDXHWm9xvt"
      },
      "source": [
        ""
      ],
      "execution_count": null,
      "outputs": []
    },
    {
      "cell_type": "code",
      "metadata": {
        "id": "ghSRUlNxdv0Q"
      },
      "source": [
        "\r\n"
      ],
      "execution_count": null,
      "outputs": []
    },
    {
      "cell_type": "code",
      "metadata": {
        "id": "IUIg8dtHgdti"
      },
      "source": [
        "\r\n",
        "\r\n"
      ],
      "execution_count": null,
      "outputs": []
    },
    {
      "cell_type": "code",
      "metadata": {
        "id": "35nTP49Agqc6"
      },
      "source": [
        ""
      ],
      "execution_count": null,
      "outputs": []
    },
    {
      "cell_type": "code",
      "metadata": {
        "id": "dyKY99wxiOCD"
      },
      "source": [
        ""
      ],
      "execution_count": null,
      "outputs": []
    },
    {
      "cell_type": "code",
      "metadata": {
        "id": "v6WcJqmkiN-j"
      },
      "source": [
        ""
      ],
      "execution_count": 1,
      "outputs": []
    },
    {
      "cell_type": "code",
      "metadata": {
        "id": "Rp3wD2wYiN7v"
      },
      "source": [
        ""
      ],
      "execution_count": null,
      "outputs": []
    },
    {
      "cell_type": "code",
      "metadata": {
        "id": "12hUe1HRiN5M"
      },
      "source": [
        ""
      ],
      "execution_count": null,
      "outputs": []
    }
  ]
}